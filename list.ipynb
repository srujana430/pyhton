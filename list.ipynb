{
 "cells": [
  {
   "cell_type": "code",
   "execution_count": 1,
   "id": "237f9614-e3ff-4a58-a6cc-4beedd60e5a9",
   "metadata": {},
   "outputs": [
    {
     "name": "stdin",
     "output_type": "stream",
     "text": [
      "enter rows: 4\n"
     ]
    },
    {
     "name": "stdout",
     "output_type": "stream",
     "text": [
      "*\n",
      "* *\n",
      "* * *\n",
      "* * * *\n"
     ]
    }
   ],
   "source": [
    "rows=int(input(\"enter rows:\"))\n",
    "pattern=[' '.join(['*' for _ in range(i)]) for i in range(1,rows+1)]\n",
    "for line in pattern:\n",
    "    print(line)"
   ]
  },
  {
   "cell_type": "code",
   "execution_count": 7,
   "id": "365cf021-0c41-4160-a77f-291a36073d31",
   "metadata": {},
   "outputs": [
    {
     "name": "stdin",
     "output_type": "stream",
     "text": [
      "enter rows: 5\n"
     ]
    },
    {
     "name": "stdout",
     "output_type": "stream",
     "text": [
      "1\n",
      "1 2\n",
      "1 2 3\n",
      "1 2 3 4\n",
      "1 2 3 4 5\n"
     ]
    }
   ],
   "source": [
    "rows=int(input(\"enter rows:\"))\n",
    "pattern=[' '.join([str(num) for num in range(1,i+1)]) for i in range(1,rows+1)]\n",
    "for line in pattern:\n",
    "    print(line)"
   ]
  },
  {
   "cell_type": "code",
   "execution_count": 9,
   "id": "6e07791b-c277-4279-b64a-aa23b9f420b9",
   "metadata": {},
   "outputs": [
    {
     "name": "stdin",
     "output_type": "stream",
     "text": [
      "enter rows: 6\n"
     ]
    },
    {
     "name": "stdout",
     "output_type": "stream",
     "text": [
      "a\n",
      "a b\n",
      "a b c\n",
      "a b c d\n",
      "a b c d e\n",
      "a b c d e f\n"
     ]
    }
   ],
   "source": [
    "rows=int(input(\"enter rows:\"))\n",
    "pattern=[' '.join([chr(97+j)for j in range(i)]) for i in range(1,rows+1)]\n",
    "for line in pattern:\n",
    "    print(line)"
   ]
  },
  {
   "cell_type": "code",
   "execution_count": 1,
   "id": "8c036250-f5dd-4ff9-bbaa-6a5ddaf601a8",
   "metadata": {},
   "outputs": [
    {
     "name": "stdin",
     "output_type": "stream",
     "text": [
      "enter rows: 4\n"
     ]
    },
    {
     "name": "stdout",
     "output_type": "stream",
     "text": [
      "*\n",
      "* *\n",
      "* * *\n",
      "* * * *\n"
     ]
    }
   ],
   "source": [
    "rows=int(input(\"enter rows:\"))\n",
    "pattern=[' ' *(rows-i) for i in range(1,rows+1)]\n",
    "for line in pattern:\n",
    "    print(line)"
   ]
  },
  {
   "cell_type": "code",
   "execution_count": 11,
   "id": "cc21d888-ece0-4365-bb31-01e04d8ac3b5",
   "metadata": {},
   "outputs": [
    {
     "name": "stdin",
     "output_type": "stream",
     "text": [
      "enter rows: 5\n"
     ]
    },
    {
     "name": "stdout",
     "output_type": "stream",
     "text": [
      "1 2 3 4 5\n",
      "1 2 3 4\n",
      "1 2 3\n",
      "1 2\n",
      "1\n"
     ]
    }
   ],
   "source": [
    "rows=int(input(\"enter rows:\"))\n",
    "pattern=[' '.join([str(num) for num in range(1,rows-i+1)]) for i in range(rows)]\n",
    "for line in pattern:\n",
    "    print(line)"
   ]
  },
  {
   "cell_type": "code",
   "execution_count": 19,
   "id": "ae05b57a-7504-4fea-968e-7a65e6ac5a99",
   "metadata": {},
   "outputs": [
    {
     "name": "stdin",
     "output_type": "stream",
     "text": [
      "enter rows: 5\n"
     ]
    },
    {
     "name": "stdout",
     "output_type": "stream",
     "text": [
      "* * * * *\n",
      "*       *\n",
      "*       *\n",
      "*       *\n",
      "* * * * *\n"
     ]
    }
   ],
   "source": [
    "n=int(input(\"enter rows:\"))\n",
    "pattern=[['*' if i==0 or i==n-1 or j==0 or j==n-1 else ' ' for i in range(n)] for j in range(n)]\n",
    "for i in pattern:\n",
    "    print(' '.join(i))"
   ]
  },
  {
   "cell_type": "code",
   "execution_count": 27,
   "id": "c44cd21a-c3fb-419e-a12e-5f45fc3f4819",
   "metadata": {},
   "outputs": [
    {
     "name": "stdin",
     "output_type": "stream",
     "text": [
      "enter rows: 5\n"
     ]
    },
    {
     "name": "stdout",
     "output_type": "stream",
     "text": [
      "* * * * *\n",
      "*     * *\n",
      "*   *   *\n",
      "* *     *\n",
      "* * * * *\n"
     ]
    }
   ],
   "source": [
    "n=int(input(\"enter rows:\"))\n",
    "pattern=[['*' if i==0 or i==n-1 or j==0 or j==n-1 or i+j==n-1 else ' ' for i in range(n)] for j in range(n)]\n",
    "for i in pattern:\n",
    "    print(' '.join(i))"
   ]
  },
  {
   "cell_type": "code",
   "execution_count": 29,
   "id": "b178b145-30e6-458f-8bff-d320d86d20df",
   "metadata": {},
   "outputs": [
    {
     "name": "stdin",
     "output_type": "stream",
     "text": [
      "enter rows: 5\n"
     ]
    },
    {
     "name": "stdout",
     "output_type": "stream",
     "text": [
      "* * * * *\n",
      "* *     *\n",
      "*   *   *\n",
      "*     * *\n",
      "* * * * *\n"
     ]
    }
   ],
   "source": [
    "n=int(input(\"enter rows:\"))\n",
    "pattern=[['*' if i==0 or i==n-1 or j==0 or j==n-1 or i==j else ' ' for i in range(n)] for j in range(n)]\n",
    "for i in pattern:\n",
    "    print(' '.join(i))"
   ]
  },
  {
   "cell_type": "code",
   "execution_count": 43,
   "id": "ce453ebb-47ed-478b-8446-0e1e5d500275",
   "metadata": {},
   "outputs": [
    {
     "name": "stdin",
     "output_type": "stream",
     "text": [
      "enter rows 5\n"
     ]
    },
    {
     "name": "stdout",
     "output_type": "stream",
     "text": [
      "     *\n",
      "    * *\n",
      "   *   *\n",
      "  *     *\n",
      " *       *\n",
      "  *     *  \n",
      "   *   *  \n",
      "    * *  \n",
      "     *  \n"
     ]
    }
   ],
   "source": [
    "n=int(input(\"enter rows\"))\n",
    "upper=[' '*(n-i)+''.join('*' if j==0 or j==2*i else ' ' for j in range(2*i+1)) for i in range(n)]\n",
    "lower=[' '*(i+2)+''.join('*' if j==0 or j==2*(n-i-2) else ' ' for j in range(2*(n-i)-1)) for i in range(n-1)]\n",
    "for line in upper+lower:\n",
    "    print(line)"
   ]
  },
  {
   "cell_type": "code",
   "execution_count": 55,
   "id": "36ddb3e1-8553-40d0-9024-77111c996325",
   "metadata": {},
   "outputs": [
    {
     "name": "stdout",
     "output_type": "stream",
     "text": [
      "4.0\n"
     ]
    }
   ],
   "source": [
    "import math\n",
    "print(math.sqrt(16))"
   ]
  },
  {
   "cell_type": "code",
   "execution_count": null,
   "id": "da16dd70-1901-4f5a-9874-06c39bcf539e",
   "metadata": {},
   "outputs": [],
   "source": []
  }
 ],
 "metadata": {
  "kernelspec": {
   "display_name": "Python 3 (ipykernel)",
   "language": "python",
   "name": "python3"
  },
  "language_info": {
   "codemirror_mode": {
    "name": "ipython",
    "version": 3
   },
   "file_extension": ".py",
   "mimetype": "text/x-python",
   "name": "python",
   "nbconvert_exporter": "python",
   "pygments_lexer": "ipython3",
   "version": "3.12.7"
  }
 },
 "nbformat": 4,
 "nbformat_minor": 5
}
