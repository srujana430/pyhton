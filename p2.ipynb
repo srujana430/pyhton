{
 "cells": [
  {
   "cell_type": "code",
   "execution_count": 1,
   "id": "dc5fdc8e-9a38-4d07-93b2-4014a62ce99f",
   "metadata": {},
   "outputs": [
    {
     "name": "stdout",
     "output_type": "stream",
     "text": [
      "even list: [46, 90]\n",
      "odd list [21, 77, 31]\n"
     ]
    }
   ],
   "source": [
    "class number:\n",
    "    even=[]\n",
    "    odd=[]\n",
    "    def __init__(self,n):\n",
    "        self.n=n\n",
    "        if n%2==0:\n",
    "            number.even.append(n)\n",
    "        else:\n",
    "            number.odd.append(n)\n",
    "n1=number(21)\n",
    "n2=number(46)\n",
    "n3=number(77)\n",
    "n4=number(90)\n",
    "n5=number(31)\n",
    "print(\"even list:\",number.even)\n",
    "print(\"odd list\",number.odd)"
   ]
  },
  {
   "cell_type": "code",
   "execution_count": 3,
   "id": "253f8865-13c3-4589-bc4b-e20f999a1576",
   "metadata": {},
   "outputs": [
    {
     "name": "stdin",
     "output_type": "stream",
     "text": [
      "enter n: 4\n"
     ]
    },
    {
     "name": "stdout",
     "output_type": "stream",
     "text": [
      "given value: 4\n",
      "given value: 64\n"
     ]
    }
   ],
   "source": [
    "def op(x):\n",
    "    return x**3\n",
    "class abc():\n",
    "    def __init__(self,val):\n",
    "        self.val=val\n",
    "    def display(self):\n",
    "        print(\"given value:\",self.val)\n",
    "    def modify(self):\n",
    "        self.val=op(self.val)\n",
    "n=int(input(\"enter n:\"))\n",
    "o=abc(n)\n",
    "o.display()\n",
    "o.modify()\n",
    "o.display()"
   ]
  },
  {
   "cell_type": "code",
   "execution_count": 11,
   "id": "403d59b1-d4c6-4560-8a23-c69628c04497",
   "metadata": {},
   "outputs": [
    {
     "name": "stdin",
     "output_type": "stream",
     "text": [
      "enter n1: 4\n",
      "enter n2: 5\n"
     ]
    },
    {
     "name": "stdout",
     "output_type": "stream",
     "text": [
      "val1: 4\n",
      "val2: 5\n",
      "object.__dict__: {'val1': 4, 'val2': 5}\n",
      "object.__doc__: None\n",
      "object.__name__: abc\n",
      "object.__module__: __main__\n",
      "object.__base__: (<class 'object'>,)\n"
     ]
    }
   ],
   "source": [
    "class abc():\n",
    "    def __init__(s,val1,val2):\n",
    "        s.val1=val1\n",
    "        s.val2=val2\n",
    "    def display(s):\n",
    "        print(\"val1:\",s.val1)\n",
    "        print(\"val2:\",s.val2)\n",
    "n1=int(input(\"enter n1:\"))\n",
    "n2=int(input(\"enter n2:\"))\n",
    "o=abc(n1,n2)\n",
    "o.display()\n",
    "print(\"object.__dict__:\",o.__dict__)\n",
    "print(\"object.__doc__:\",o.__doc__)\n",
    "print(\"object.__name__:\",abc.__name__)\n",
    "print(\"object.__module__:\",o.__module__)\n",
    "print(\"object.__base__:\",abc.__bases__)"
   ]
  },
  {
   "cell_type": "code",
   "execution_count": 17,
   "id": "7c3678ba-802b-458e-a30d-4e02e6baf3f6",
   "metadata": {},
   "outputs": [
    {
     "name": "stdout",
     "output_type": "stream",
     "text": [
      "<class 'type'>\n",
      "1704\n",
      "48\n"
     ]
    }
   ],
   "source": [
    "import sys\n",
    "class A:\n",
    "    n=10\n",
    "a=A()\n",
    "print(type(A))\n",
    "print(sys.getsizeof(A))\n",
    "print(sys.getsizeof(a))"
   ]
  },
  {
   "cell_type": "code",
   "execution_count": 25,
   "id": "1dce1e1f-a7db-4d4d-8e6c-feb742194a9e",
   "metadata": {},
   "outputs": [
    {
     "name": "stdin",
     "output_type": "stream",
     "text": [
      "enter pin 1234\n",
      "enter amt: 3000\n"
     ]
    },
    {
     "name": "stdout",
     "output_type": "stream",
     "text": [
      "3000 debited. Remaining balance Rs.2000\n"
     ]
    }
   ],
   "source": [
    "class atm:\n",
    "    def __init__(s):\n",
    "        s.balance=5000\n",
    "        s.pin=\"1234\"\n",
    "    def process(s):\n",
    "        user_pin=input(\"enter pin\")\n",
    "        if user_pin==s.pin:\n",
    "            amt=int(input(\"enter amt:\"))\n",
    "            if amt<= s.balance:\n",
    "                s.balance-=amt\n",
    "                print(f\"{amt} debited. Remaining balance Rs.{s.balance}\")\n",
    "            else:\n",
    "                print(\"insufficient amount.Transaction cancelled\")\n",
    "        else:\n",
    "            print(\"pin incorrect\")\n",
    "obj=atm()\n",
    "obj.process()"
   ]
  },
  {
   "cell_type": "code",
   "execution_count": null,
   "id": "c14f1208-2b50-4ec3-bd37-17d53038b408",
   "metadata": {},
   "outputs": [],
   "source": []
  }
 ],
 "metadata": {
  "kernelspec": {
   "display_name": "Python 3 (ipykernel)",
   "language": "python",
   "name": "python3"
  },
  "language_info": {
   "codemirror_mode": {
    "name": "ipython",
    "version": 3
   },
   "file_extension": ".py",
   "mimetype": "text/x-python",
   "name": "python",
   "nbconvert_exporter": "python",
   "pygments_lexer": "ipython3",
   "version": "3.12.7"
  }
 },
 "nbformat": 4,
 "nbformat_minor": 5
}
