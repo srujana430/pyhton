{
 "cells": [
  {
   "cell_type": "code",
   "execution_count": 1,
   "id": "95237d16-a787-42d8-b6c9-2e582c58917e",
   "metadata": {},
   "outputs": [
    {
     "name": "stdout",
     "output_type": "stream",
     "text": [
      "hello students\n"
     ]
    }
   ],
   "source": [
    "def hi():\n",
    "    print(\"hello students\")\n",
    "hi()"
   ]
  },
  {
   "cell_type": "code",
   "execution_count": 3,
   "id": "bf9d6339-df2f-4ff1-a151-1d77a190845a",
   "metadata": {},
   "outputs": [
    {
     "name": "stdin",
     "output_type": "stream",
     "text": [
      "enter a: 4\n",
      "enter b: 6\n"
     ]
    },
    {
     "name": "stdout",
     "output_type": "stream",
     "text": [
      "total: 10\n"
     ]
    }
   ],
   "source": [
    "def sum(a,b):\n",
    "    print(\"total:\",a+b)\n",
    "a=int(input(\"enter a:\"))\n",
    "b=int(input(\"enter b:\"))\n",
    "sum(a,b)"
   ]
  },
  {
   "cell_type": "code",
   "execution_count": 7,
   "id": "6a5b71ad-db0b-43d8-863f-7cead6fdb5dc",
   "metadata": {},
   "outputs": [
    {
     "name": "stdin",
     "output_type": "stream",
     "text": [
      "enter a: 4\n",
      "enter b: 5\n"
     ]
    },
    {
     "name": "stdout",
     "output_type": "stream",
     "text": [
      "9\n"
     ]
    }
   ],
   "source": [
    "def sum(x,y):\n",
    "    return x+y\n",
    "a=int(input(\"enter a:\"))\n",
    "b=int(input(\"enter b:\"))\n",
    "print(sum(a,b))"
   ]
  },
  {
   "cell_type": "code",
   "execution_count": 9,
   "id": "5f48e9b6-6173-4c47-877c-81e269ee87b0",
   "metadata": {},
   "outputs": [
    {
     "name": "stdin",
     "output_type": "stream",
     "text": [
      "enter base 5\n"
     ]
    },
    {
     "name": "stdout",
     "output_type": "stream",
     "text": [
      "25\n",
      "125\n"
     ]
    }
   ],
   "source": [
    "def power(base,expo=2):\n",
    "    return base**expo\n",
    "num=int(input(\"enter base\"))\n",
    "print(power(num))\n",
    "print(power(num,3))"
   ]
  },
  {
   "cell_type": "code",
   "execution_count": 15,
   "id": "122f470c-5bbc-42a7-bb00-f19a130084e2",
   "metadata": {},
   "outputs": [
    {
     "name": "stdin",
     "output_type": "stream",
     "text": [
      "enter a: 5\n",
      "enter b: 4\n"
     ]
    },
    {
     "name": "stdout",
     "output_type": "stream",
     "text": [
      "add: 9\n",
      "sub: 1\n",
      "multi: 20\n"
     ]
    }
   ],
   "source": [
    "def operate(a,b):\n",
    "    return a+b,a-b,a*b\n",
    "a=int(input(\"enter a:\"))\n",
    "b=int(input(\"enter b:\"))\n",
    "add,sub,multi=operate(a,b)\n",
    "print(\"add:\",add)\n",
    "print(\"sub:\",sub)\n",
    "print(\"multi:\",multi)\n"
   ]
  },
  {
   "cell_type": "code",
   "execution_count": 17,
   "id": "f00c7fbf-785e-42da-96f0-c053bce12ec6",
   "metadata": {},
   "outputs": [
    {
     "name": "stdin",
     "output_type": "stream",
     "text": [
      "enter number 6\n"
     ]
    },
    {
     "name": "stdout",
     "output_type": "stream",
     "text": [
      "36\n"
     ]
    }
   ],
   "source": [
    "n=int(input(\"enter number\"))\n",
    "square=lambda n: n*n\n",
    "print(square(n))"
   ]
  },
  {
   "cell_type": "code",
   "execution_count": 21,
   "id": "d9c592da-6708-467d-8846-7cd698623aab",
   "metadata": {},
   "outputs": [
    {
     "name": "stdout",
     "output_type": "stream",
     "text": [
      "outer function\n",
      "inner function\n"
     ]
    }
   ],
   "source": [
    "def hi():\n",
    "    def hello():\n",
    "        print(\"inner function\")\n",
    "    print(\"outer function\")\n",
    "    hello()\n",
    "hi()"
   ]
  },
  {
   "cell_type": "code",
   "execution_count": 23,
   "id": "259cf6e7-83aa-4965-b989-83bf3845b79e",
   "metadata": {},
   "outputs": [
    {
     "name": "stdin",
     "output_type": "stream",
     "text": [
      "enter a: 5\n",
      "enter b: 4\n"
     ]
    },
    {
     "name": "stdout",
     "output_type": "stream",
     "text": [
      "add: 9\n",
      "sub: 1\n"
     ]
    }
   ],
   "source": [
    "def operate(a,b):\n",
    "    def add():\n",
    "        return a+b\n",
    "    def sub():\n",
    "        return a-b\n",
    "    print(\"add:\",add())\n",
    "    print(\"sub:\",sub())\n",
    "a=int(input(\"enter a:\"))\n",
    "b=int(input(\"enter b:\"))\n",
    "operate(a,b)"
   ]
  },
  {
   "cell_type": "code",
   "execution_count": 47,
   "id": "e6d15046-276f-4b4a-a76f-508cc3906969",
   "metadata": {},
   "outputs": [
    {
     "name": "stdin",
     "output_type": "stream",
     "text": [
      "enter a: 5\n",
      "enter b: 3\n"
     ]
    },
    {
     "name": "stdout",
     "output_type": "stream",
     "text": [
      "125\n"
     ]
    },
    {
     "data": {
      "text/plain": [
       "120"
      ]
     },
     "execution_count": 47,
     "metadata": {},
     "output_type": "execute_result"
    }
   ],
   "source": [
    "def fact():\n",
    "    def power(a,b):\n",
    "        res=a**b\n",
    "        print(res)\n",
    "    power(a,b)\n",
    "    x=1\n",
    "    for i in range(1,a+1):\n",
    "        x*=i\n",
    "    return x\n",
    "a=int(input(\"enter a:\"))\n",
    "b=int(input(\"enter b:\"))\n",
    "fact()"
   ]
  },
  {
   "cell_type": "code",
   "execution_count": 53,
   "id": "df478654-0b06-4bf0-9c8d-396eb7013517",
   "metadata": {},
   "outputs": [
    {
     "name": "stdin",
     "output_type": "stream",
     "text": [
      "enter n: 4\n"
     ]
    },
    {
     "name": "stdout",
     "output_type": "stream",
     "text": [
      "factorial: 24\n",
      "Sfactorial: 288\n"
     ]
    }
   ],
   "source": [
    "def fact(n): \n",
    "    if n==0 or n==1:\n",
    "        return 1\n",
    "    return n*fact(n-1)\n",
    "def sfact(n):\n",
    "    if n==1:\n",
    "        return 1\n",
    "    return fact(n)*sfact(n-1)\n",
    "n=int(input(\"enter n:\"))\n",
    "print(\"factorial:\",fact(n))\n",
    "print(\"Sfactorial:\",sfact(n))"
   ]
  },
  {
   "cell_type": "code",
   "execution_count": null,
   "id": "57e31e79-308a-46cb-948c-b862a6def0c0",
   "metadata": {},
   "outputs": [],
   "source": []
  }
 ],
 "metadata": {
  "kernelspec": {
   "display_name": "Python 3 (ipykernel)",
   "language": "python",
   "name": "python3"
  },
  "language_info": {
   "codemirror_mode": {
    "name": "ipython",
    "version": 3
   },
   "file_extension": ".py",
   "mimetype": "text/x-python",
   "name": "python",
   "nbconvert_exporter": "python",
   "pygments_lexer": "ipython3",
   "version": "3.12.7"
  }
 },
 "nbformat": 4,
 "nbformat_minor": 5
}
