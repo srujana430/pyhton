{
 "cells": [
  {
   "cell_type": "code",
   "execution_count": 5,
   "id": "1f28e41d-2d12-480c-a0dc-e22b52e5bb91",
   "metadata": {},
   "outputs": [
    {
     "name": "stdin",
     "output_type": "stream",
     "text": [
      "enter n: 22\n",
      "enter d: 0\n"
     ]
    },
    {
     "name": "stdout",
     "output_type": "stream",
     "text": [
      "denominator cannot be a zero\n"
     ]
    }
   ],
   "source": [
    "n=int(input(\"enter n:\"))\n",
    "d=int(input(\"enter d:\"))\n",
    "try:\n",
    "    q=n/d\n",
    "    print(\"quotient:\",q)\n",
    "except ZeroDivisionError:\n",
    "    print(\"denominator cannot be a zero\")               "
   ]
  },
  {
   "cell_type": "code",
   "execution_count": 9,
   "id": "75d8c44f-b1d8-4592-a6b5-c777ef2301eb",
   "metadata": {},
   "outputs": [
    {
     "name": "stdin",
     "output_type": "stream",
     "text": [
      "enter num: 7\n"
     ]
    },
    {
     "name": "stdout",
     "output_type": "stream",
     "text": [
      "343\n",
      "program terminated\n",
      "bye\n"
     ]
    }
   ],
   "source": [
    "try:\n",
    "    num=int(input(\"enter num:\"))\n",
    "    print(num**3)\n",
    "except (keyboardInterrupt):\n",
    "    print(\"you should have entered data without interrupting the complication\")\n",
    "except (ValueError):\n",
    "    print(\"enter num:\")\n",
    "print(\"program terminated\")\n",
    "print(\"bye\")\n",
    "    "
   ]
  },
  {
   "cell_type": "code",
   "execution_count": 11,
   "id": "915c720b-62db-46d0-ae30-1d6cc79fbb7d",
   "metadata": {},
   "outputs": [
    {
     "name": "stdout",
     "output_type": "stream",
     "text": [
      "error occures due to input\n"
     ]
    }
   ],
   "source": [
    "try:\n",
    "    file=open('f1.txt')\n",
    "    str=file.readline()\n",
    "    print(str)\n",
    "except IOError:\n",
    "    print(\"error occures due to input\")\n",
    "except ValueError:\n",
    "    print(\"couldbot convert to integer\")\n",
    "except:\n",
    "    print(\"unexcepted error\")\n",
    "    "
   ]
  },
  {
   "cell_type": "code",
   "execution_count": 21,
   "id": "fb8b2d88-5934-4967-96f7-431716415da2",
   "metadata": {},
   "outputs": [
    {
     "name": "stdout",
     "output_type": "stream",
     "text": [
      "error occures due to input\n"
     ]
    }
   ],
   "source": [
    "try:\n",
    "    file=open('f1.txt')\n",
    "    str=file.readline()\n",
    "    print(str)\n",
    "except IOError:\n",
    "    print(\"error occures due to input\")\n",
    "else:\n",
    "    print(\"unexcepted error\")"
   ]
  },
  {
   "cell_type": "code",
   "execution_count": 23,
   "id": "925ddf65-e348-406d-ab4b-9dcc78249c96",
   "metadata": {},
   "outputs": [
    {
     "name": "stdout",
     "output_type": "stream",
     "text": [
      "100\n",
      "Expection occured\n"
     ]
    }
   ],
   "source": [
    "try:\n",
    "    n=10\n",
    "    print(n**2)\n",
    "    raise ValueError\n",
    "except:\n",
    "    print(\"Expection occured\")"
   ]
  },
  {
   "cell_type": "code",
   "execution_count": 25,
   "id": "32c99cfa-e8eb-4000-a436-7b6bcc743377",
   "metadata": {},
   "outputs": [
    {
     "name": "stdout",
     "output_type": "stream",
     "text": [
      "re raising the complication\n"
     ]
    }
   ],
   "source": [
    "try:\n",
    "    raise NameError\n",
    "except:\n",
    "    print(\"re raising the complication\")\n",
    "    "
   ]
  },
  {
   "cell_type": "code",
   "execution_count": 31,
   "id": "d80c1892-57ea-4417-aefc-a9361811cd5b",
   "metadata": {},
   "outputs": [
    {
     "name": "stdout",
     "output_type": "stream",
     "text": [
      "<class 'Exception'>\n",
      "('bhargavi', 'ECE')\n",
      "2nd argument ECE\n",
      "1st argument bhargavi\n"
     ]
    }
   ],
   "source": [
    "try:\n",
    "    raise Exception('bhargavi','ECE')\n",
    "except Exception as errorObj:\n",
    "    print(type(errorObj))\n",
    "    print(errorObj.args)\n",
    "    arg1,arg2=errorObj.args\n",
    "    print(\"2nd argument\",arg2)\n",
    "    print(\"1st argument\",arg1)"
   ]
  },
  {
   "cell_type": "code",
   "execution_count": null,
   "id": "320b8dac-7c9a-4e7f-9c82-ce39720590ee",
   "metadata": {},
   "outputs": [],
   "source": []
  }
 ],
 "metadata": {
  "kernelspec": {
   "display_name": "Python 3 (ipykernel)",
   "language": "python",
   "name": "python3"
  },
  "language_info": {
   "codemirror_mode": {
    "name": "ipython",
    "version": 3
   },
   "file_extension": ".py",
   "mimetype": "text/x-python",
   "name": "python",
   "nbconvert_exporter": "python",
   "pygments_lexer": "ipython3",
   "version": "3.12.7"
  }
 },
 "nbformat": 4,
 "nbformat_minor": 5
}
