{
 "cells": [
  {
   "cell_type": "code",
   "execution_count": 3,
   "id": "20180a61-c9ab-44b8-a7a6-9660dbe19d55",
   "metadata": {},
   "outputs": [
    {
     "name": "stdout",
     "output_type": "stream",
     "text": [
      "9\n"
     ]
    }
   ],
   "source": [
    "class abc:\n",
    "    value=9\n",
    "obj1=abc()\n",
    "print(obj1.value)"
   ]
  },
  {
   "cell_type": "code",
   "execution_count": 9,
   "id": "c16e8a77-5131-4f07-bd7d-21267d40911b",
   "metadata": {},
   "outputs": [
    {
     "name": "stdout",
     "output_type": "stream",
     "text": [
      "9\n",
      "this is class method\n"
     ]
    }
   ],
   "source": [
    "class abc():\n",
    "    value=9\n",
    "    def display(self):\n",
    "        print(\"this is class method\")\n",
    "obj1=abc()\n",
    "print(obj1.value)\n",
    "obj1.display()"
   ]
  },
  {
   "cell_type": "code",
   "execution_count": 19,
   "id": "5c9ea416-efc3-41f1-929a-dcc9a3934e2b",
   "metadata": {},
   "outputs": [
    {
     "name": "stdin",
     "output_type": "stream",
     "text": [
      "enter a value 89\n"
     ]
    },
    {
     "name": "stdout",
     "output_type": "stream",
     "text": [
      "this is class method\n",
      "accessed value in class is 89\n"
     ]
    }
   ],
   "source": [
    "class abc():\n",
    "    def __init__(self,value):\n",
    "        print(\"this is class method\")\n",
    "        self.value=value\n",
    "        print(\"accessed value in class is\",value)\n",
    "num=int(input(\"enter a value\"))\n",
    "obj=abc(num)"
   ]
  },
  {
   "cell_type": "code",
   "execution_count": 27,
   "id": "bd43df61-e79e-48be-81f4-7f0f7c750c96",
   "metadata": {},
   "outputs": [
    {
     "name": "stdout",
     "output_type": "stream",
     "text": [
      "Hello, I am ds and i am 2 years old\n"
     ]
    }
   ],
   "source": [
    "class student:\n",
    "    def __init__(self,name,age):\n",
    "        self.name=name\n",
    "        self.age=age\n",
    "    def hi(self):\n",
    "        print(f\"Hello, I am {self.name} and i am {self.age} years old\")\n",
    "s=student('ds',2)\n",
    "s.hi()    "
   ]
  },
  {
   "cell_type": "code",
   "execution_count": 35,
   "id": "f5fe6ad1-3cc9-49b1-8245-5c2c165faa50",
   "metadata": {},
   "outputs": [
    {
     "name": "stdin",
     "output_type": "stream",
     "text": [
      "enter r: 4\n"
     ]
    },
    {
     "name": "stdout",
     "output_type": "stream",
     "text": [
      "area: 50.26548245743669\n",
      "circumference 25.132741228718345\n"
     ]
    }
   ],
   "source": [
    "import math\n",
    "class circle:\n",
    "    def __init__(self,radius):\n",
    "        self.radius=radius\n",
    "    def area(self):\n",
    "        return math.pi*self.radius**2\n",
    "    def cir(self):\n",
    "        return 2*math.pi*self.radius\n",
    "r=int(input(\"enter r:\"))\n",
    "c=circle(r)\n",
    "print(\"area:\",c.area())\n",
    "print(\"circumference\",c.cir())"
   ]
  },
  {
   "cell_type": "code",
   "execution_count": 39,
   "id": "0cb82534-c5c9-4555-bdaf-e6c279551463",
   "metadata": {},
   "outputs": [
    {
     "name": "stdin",
     "output_type": "stream",
     "text": [
      "enter n: 4\n"
     ]
    },
    {
     "name": "stdout",
     "output_type": "stream",
     "text": [
      "factorial: 24\n"
     ]
    }
   ],
   "source": [
    "class math:\n",
    "    def __init__(self,num):\n",
    "        self.num=num\n",
    "    def fact(self):\n",
    "        f=1\n",
    "        for i in range(1,self.num+1):\n",
    "            f*=i\n",
    "        return f\n",
    "n=int(input(\"enter n:\"))\n",
    "m=math(n)\n",
    "print(\"factorial:\",m.fact())"
   ]
  },
  {
   "cell_type": "code",
   "execution_count": 45,
   "id": "11a3eead-e665-4703-89d9-9ae81d0fe4ac",
   "metadata": {},
   "outputs": [
    {
     "name": "stdin",
     "output_type": "stream",
     "text": [
      "enter n: 36\n"
     ]
    },
    {
     "name": "stdout",
     "output_type": "stream",
     "text": [
      "squareroot:6.000000\n"
     ]
    }
   ],
   "source": [
    "import math\n",
    "class Squareroot:\n",
    "    def __init__(self,num):\n",
    "        self.num=num\n",
    "    def root(self):\n",
    "        return math.sqrt(self.num)\n",
    "n=float(input(\"enter n:\"))\n",
    "s=Squareroot(n)\n",
    "print(f\"squareroot:{s.root():2f}\")\n"
   ]
  },
  {
   "cell_type": "code",
   "execution_count": 47,
   "id": "a8ba2aff-192d-420a-888f-dc98213f2471",
   "metadata": {},
   "outputs": [
    {
     "name": "stdout",
     "output_type": "stream",
     "text": [
      "even list: [78, 66]\n",
      "odd list: [21, 31, 45]\n"
     ]
    }
   ],
   "source": [
    "class num:\n",
    "    even=[]\n",
    "    odd=[]\n",
    "    def __init__(self,n):\n",
    "        self.n=n\n",
    "        if n%2==0:\n",
    "            num.even.append(n)\n",
    "        else:\n",
    "            num.odd.append(n)\n",
    "n1=num(21)\n",
    "n2=num(31)\n",
    "n3=num(45)\n",
    "n4=num(78)\n",
    "n5=num(66)\n",
    "print(\"even list:\",num.even)\n",
    "print(\"odd list:\",num.odd)"
   ]
  },
  {
   "cell_type": "code",
   "execution_count": null,
   "id": "ceff1a9b-be46-41a5-bc68-915df00cdfb4",
   "metadata": {},
   "outputs": [],
   "source": []
  }
 ],
 "metadata": {
  "kernelspec": {
   "display_name": "Python 3 (ipykernel)",
   "language": "python",
   "name": "python3"
  },
  "language_info": {
   "codemirror_mode": {
    "name": "ipython",
    "version": 3
   },
   "file_extension": ".py",
   "mimetype": "text/x-python",
   "name": "python",
   "nbconvert_exporter": "python",
   "pygments_lexer": "ipython3",
   "version": "3.12.7"
  }
 },
 "nbformat": 4,
 "nbformat_minor": 5
}
