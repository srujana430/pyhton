{
 "cells": [
  {
   "cell_type": "code",
   "execution_count": 5,
   "id": "03599888-8828-4140-85f3-4fc84eec0052",
   "metadata": {},
   "outputs": [
    {
     "name": "stdin",
     "output_type": "stream",
     "text": [
      "enter the value 6\n"
     ]
    },
    {
     "name": "stdout",
     "output_type": "stream",
     "text": [
      "6\n",
      "5\n",
      "4\n",
      "3\n",
      "2\n",
      "1\n"
     ]
    }
   ],
   "source": [
    "def hrec(n):\n",
    "    if n==0:\n",
    "        return\n",
    "    print(n)\n",
    "    return hrec(n-1)\n",
    "num= int(input(\"enter the value\"))\n",
    "hrec(num)"
   ]
  },
  {
   "cell_type": "code",
   "execution_count": 7,
   "id": "9b2e65fb-24bf-461b-b630-79f21c96ec82",
   "metadata": {},
   "outputs": [
    {
     "name": "stdin",
     "output_type": "stream",
     "text": [
      "enter the value 5\n"
     ]
    },
    {
     "name": "stdout",
     "output_type": "stream",
     "text": [
      "1\n",
      "2\n",
      "3\n",
      "4\n",
      "5\n"
     ]
    }
   ],
   "source": [
    "def hrec(n):\n",
    "    if n==0:\n",
    "        return\n",
    "    hrec(n-1)\n",
    "    print(n)\n",
    "num= int(input(\"enter the value\"))\n",
    "hrec(num)"
   ]
  },
  {
   "cell_type": "code",
   "execution_count": 9,
   "id": "c94f4fe0-c545-4100-b909-83c35a7d9174",
   "metadata": {},
   "outputs": [
    {
     "name": "stdin",
     "output_type": "stream",
     "text": [
      "enter a number: 5\n"
     ]
    },
    {
     "name": "stdout",
     "output_type": "stream",
     "text": [
      "factorial: 120\n"
     ]
    }
   ],
   "source": [
    "def fact(n):\n",
    "    if n==1:\n",
    "        return 1\n",
    "    return n*fact(n-1)\n",
    "num= int(input(\"enter a number:\"))\n",
    "print(\"factorial:\",fact(num))"
   ]
  },
  {
   "cell_type": "code",
   "execution_count": 33,
   "id": "f2f68098-60c3-4a57-9cb3-1973bc2cff99",
   "metadata": {},
   "outputs": [
    {
     "name": "stdin",
     "output_type": "stream",
     "text": [
      "enter n: 554\n"
     ]
    },
    {
     "name": "stdout",
     "output_type": "stream",
     "text": [
      "14\n"
     ]
    }
   ],
   "source": [
    "def sumD(n):\n",
    "    if n==0:\n",
    "        return 0\n",
    "    return (n%10)+sumD(n//10)\n",
    "num=int(input(\"enter n:\"))\n",
    "print(sumD(num))"
   ]
  },
  {
   "cell_type": "code",
   "execution_count": 37,
   "id": "910f6c9e-d317-4ff6-bdf6-59411e92e2fc",
   "metadata": {},
   "outputs": [
    {
     "name": "stdin",
     "output_type": "stream",
     "text": [
      "enter the value of n: 20\n"
     ]
    },
    {
     "name": "stdout",
     "output_type": "stream",
     "text": [
      "one: 20\n",
      "two: 19\n",
      "one: 9\n",
      "two: 8\n",
      "one: 4\n",
      "two: 3\n",
      "one: 1\n"
     ]
    }
   ],
   "source": [
    "def one(n):\n",
    "    if n>0:\n",
    "        print(\"one:\",n)\n",
    "        two(n-1)\n",
    "def two(n):\n",
    "    if n>0:\n",
    "        print(\"two:\",n)\n",
    "        one(n//2)\n",
    "num=int(input(\"enter the value of n:\"))\n",
    "one(num)"
   ]
  },
  {
   "cell_type": "code",
   "execution_count": 59,
   "id": "d3710314-a0c8-4c39-9475-b353da22cc2b",
   "metadata": {},
   "outputs": [
    {
     "name": "stdin",
     "output_type": "stream",
     "text": [
      "enter n: 6\n"
     ]
    },
    {
     "name": "stdout",
     "output_type": "stream",
     "text": [
      " even 6\n"
     ]
    }
   ],
   "source": [
    "def even(n):\n",
    "    if n%2==0:\n",
    "        print(\" even\",n)\n",
    "    else:\n",
    "        print(\"odd\",n)\n",
    "n=int(input(\"enter n:\"))\n",
    "even(n)"
   ]
  },
  {
   "cell_type": "code",
   "execution_count": 55,
   "id": "dca7ffa3-68ac-4194-8215-78a1ad61b6c3",
   "metadata": {},
   "outputs": [
    {
     "name": "stdin",
     "output_type": "stream",
     "text": [
      "enter n: 5\n"
     ]
    },
    {
     "name": "stdout",
     "output_type": "stream",
     "text": [
      "5 is even? False\n"
     ]
    }
   ],
   "source": [
    "def even(n):\n",
    "    if n==0:\n",
    "        return True\n",
    "    return odd(n-1)\n",
    "def odd(n):\n",
    "    if n==0:\n",
    "        return False\n",
    "    return even(n-1)\n",
    "num=int(input(\"enter n:\"))\n",
    "print(num,\"is even?\",even(num))"
   ]
  },
  {
   "cell_type": "code",
   "execution_count": 61,
   "id": "36ef00f1-18b7-430a-a4f8-465643e3457d",
   "metadata": {},
   "outputs": [
    {
     "name": "stdout",
     "output_type": "stream",
     "text": [
      "3\n",
      "2\n",
      "1\n",
      "0\n",
      "0\n",
      "1\n",
      "0\n"
     ]
    }
   ],
   "source": [
    "def tree(n):\n",
    "    if n<0:\n",
    "        return\n",
    "    print(n)\n",
    "    tree(n-1)\n",
    "    tree(n-2)\n",
    "tree(3)"
   ]
  },
  {
   "cell_type": "code",
   "execution_count": 65,
   "id": "89eb1e3a-8cb8-4c71-8655-776f483f0038",
   "metadata": {},
   "outputs": [
    {
     "name": "stdout",
     "output_type": "stream",
     "text": [
      "9\n"
     ]
    }
   ],
   "source": [
    "def nest(n):\n",
    "    if n>=10:\n",
    "        return n-1\n",
    "    return (nest(nest(n+2)))\n",
    "print(nest(5))"
   ]
  },
  {
   "cell_type": "code",
   "execution_count": null,
   "id": "b4c62676-2019-45b8-b67b-aa20cec81a72",
   "metadata": {},
   "outputs": [],
   "source": []
  }
 ],
 "metadata": {
  "kernelspec": {
   "display_name": "Python 3 (ipykernel)",
   "language": "python",
   "name": "python3"
  },
  "language_info": {
   "codemirror_mode": {
    "name": "ipython",
    "version": 3
   },
   "file_extension": ".py",
   "mimetype": "text/x-python",
   "name": "python",
   "nbconvert_exporter": "python",
   "pygments_lexer": "ipython3",
   "version": "3.12.7"
  }
 },
 "nbformat": 4,
 "nbformat_minor": 5
}
