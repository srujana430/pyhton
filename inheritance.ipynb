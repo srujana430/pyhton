{
 "cells": [
  {
   "cell_type": "code",
   "execution_count": 7,
   "id": "b82d5954-3ccf-4a0b-8df5-8936a5fdce14",
   "metadata": {},
   "outputs": [
    {
     "name": "stdout",
     "output_type": "stream",
     "text": [
      "engine started\n",
      "the car is being drove\n"
     ]
    }
   ],
   "source": [
    "class vehicle:\n",
    "    def start_engine(self):\n",
    "        print(\"engine started\")\n",
    "class car(vehicle):\n",
    "    def drive(self):\n",
    "        print(\"the car is being drove\")\n",
    "c=car()\n",
    "c.start_engine()    #inherited method\n",
    "c.drive()           #sub class owned method"
   ]
  },
  {
   "cell_type": "code",
   "execution_count": 9,
   "id": "c47ff217-c0ef-421e-95de-d828ac88d473",
   "metadata": {},
   "outputs": [
    {
     "name": "stdout",
     "output_type": "stream",
     "text": [
      "I am a student\n",
      "the student is studying\n"
     ]
    }
   ],
   "source": [
    "class person:\n",
    "    def info(self):\n",
    "        print(\"I am a student\")\n",
    "class student(person):\n",
    "    def study(self):\n",
    "        print(\"the student is studying\")\n",
    "s=student()\n",
    "s.info()\n",
    "s.study()"
   ]
  },
  {
   "cell_type": "code",
   "execution_count": 22,
   "id": "ebe53eb3-a6f1-4cf9-9076-8623c083fe0c",
   "metadata": {},
   "outputs": [
    {
     "name": "stdin",
     "output_type": "stream",
     "text": [
      "enter n: dd\n"
     ]
    },
    {
     "name": "stdout",
     "output_type": "stream",
     "text": [
      "it is an animal\n",
      "dd is barking\n"
     ]
    }
   ],
   "source": [
    "class all:\n",
    "    def info(self,n):\n",
    "        self.n=n\n",
    "        print(\"it is an animal\")\n",
    "class animals(all):\n",
    "    def hi(self):\n",
    "        print(f\"{self.n} is barking\")\n",
    "n=str(input(\"enter n:\"))\n",
    "c=animals()\n",
    "c.info(n)\n",
    "c.hi()"
   ]
  },
  {
   "cell_type": "code",
   "execution_count": 30,
   "id": "1b89514f-5be4-4dc4-99e9-e245271fed6e",
   "metadata": {},
   "outputs": [
    {
     "name": "stdin",
     "output_type": "stream",
     "text": [
      "Enter num1: 5\n",
      "enter num2: 4\n"
     ]
    },
    {
     "name": "stdout",
     "output_type": "stream",
     "text": [
      "the result is 9\n"
     ]
    }
   ],
   "source": [
    "class operate:\n",
    "    def userdata(self):\n",
    "        self.num1=int(input(\"Enter num1:\"))\n",
    "        self.num2=int(input(\"enter num2:\"))\n",
    "class summate(operate):\n",
    "    def add(self):\n",
    "        result=self.num1+self.num2\n",
    "        print(f\"the result is {result}\")\n",
    "d=summate()\n",
    "d.userdata()\n",
    "d.add()"
   ]
  },
  {
   "cell_type": "code",
   "execution_count": 60,
   "id": "2d1b49c1-5662-4e10-bee1-9899fb19a949",
   "metadata": {},
   "outputs": [
    {
     "name": "stdin",
     "output_type": "stream",
     "text": [
      "enter num: 45\n",
      "enter den: 4\n"
     ]
    },
    {
     "name": "stdout",
     "output_type": "stream",
     "text": [
      "the result is 11\n"
     ]
    }
   ],
   "source": [
    "class operate:\n",
    "    def userdata(s):\n",
    "        s.num=int(input(\"enter num:\"))\n",
    "        s.den=int(input(\"enter den:\"))\n",
    "class calc(operate):\n",
    "    def div(s):\n",
    "        try:\n",
    "            res=s.num/s.den\n",
    "            result=int(res)\n",
    "            print(f\"the result is {result}\")\n",
    "        except ZeroDivisionError:\n",
    "            print(\"error\")\n",
    "c=calc()\n",
    "c.userdata()\n",
    "c.div()"
   ]
  },
  {
   "cell_type": "code",
   "execution_count": 70,
   "id": "38492ae2-c587-4aba-8b67-27b6f46e2a88",
   "metadata": {},
   "outputs": [
    {
     "name": "stdin",
     "output_type": "stream",
     "text": [
      "enter name: sree\n",
      "enter employee id: 12\n",
      "enter department: cse\n"
     ]
    },
    {
     "name": "stdout",
     "output_type": "stream",
     "text": [
      "name:sree\n",
      "employee id: 12\n",
      "depatment: cse\n"
     ]
    }
   ],
   "source": [
    "class intern:  #super class\n",
    "    def __init__(s,name):\n",
    "        s.name=name\n",
    "    def display_intern(s):\n",
    "        print(f\"name:{s.name}\")\n",
    "class employee(intern):     #class\n",
    "    def __init__(s,name,emp_id):\n",
    "        super().__init__(name)  #accesses the 'name' from intern\n",
    "        s.emp_id=emp_id\n",
    "    def display_employee(s):\n",
    "        print(f\"employee id: {s.emp_id}\")\n",
    "class manager(employee):     #sub class\n",
    "    def __init__(s,name,emp_id,dept):\n",
    "        super().__init__(name,emp_id)\n",
    "        s.dept=dept\n",
    "    def display_manager(s):\n",
    "        print(f\"depatment: {s.dept}\")\n",
    "name=input(\"enter name:\")\n",
    "emp_id=input(\"enter employee id:\")\n",
    "dept=input(\"enter department:\")\n",
    "m=manager(name,emp_id,dept)\n",
    "m.display_intern()\n",
    "m.display_employee()\n",
    "m.display_manager()"
   ]
  },
  {
   "cell_type": "code",
   "execution_count": 72,
   "id": "93ee9635-4c9c-4ddc-b422-1003186330ba",
   "metadata": {},
   "outputs": [
    {
     "name": "stdin",
     "output_type": "stream",
     "text": [
      "enter num1: 5\n",
      "enter num2: 4\n"
     ]
    },
    {
     "name": "stdout",
     "output_type": "stream",
     "text": [
      "sum: 9\n",
      "sub: 1\n"
     ]
    }
   ],
   "source": [
    "class userinput:\n",
    "    def __init__(s):\n",
    "        s.num1=int(input(\"enter num1:\"))\n",
    "        s.num2=int(input(\"enter num2:\"))\n",
    "class operate(userinput):\n",
    "    def __init__(s):\n",
    "        super().__init__()\n",
    "    def add(s):\n",
    "        return s.num1+s.num2\n",
    "    def sub(s):\n",
    "        return s.num1-s.num2\n",
    "class result(operate):\n",
    "    def __init__(s):\n",
    "        super().__init__()\n",
    "    def display(s):\n",
    "        print(f\"sum: {s.add()}\")\n",
    "        print(f\"sub: {s.sub()}\")\n",
    "c=result()\n",
    "c.display()"
   ]
  },
  {
   "cell_type": "code",
   "execution_count": 74,
   "id": "f9e7aeef-5631-4379-a34c-b6f42592fdd8",
   "metadata": {},
   "outputs": [
    {
     "name": "stdin",
     "output_type": "stream",
     "text": [
      "enter n1: 5\n",
      "enter n2: 4\n"
     ]
    },
    {
     "name": "stdout",
     "output_type": "stream",
     "text": [
      "9\n",
      "20\n"
     ]
    }
   ],
   "source": [
    "class math:\n",
    "    def __init__(s,n1,n2):\n",
    "        s.n1=n1\n",
    "        s.n2=n2\n",
    "class operate(math):\n",
    "    def result(s):\n",
    "        add=s.n1+s.n2\n",
    "        mul=s.n1*s.n2\n",
    "        print(add)\n",
    "        print(mul)\n",
    "n1=int(input(\"enter n1:\"))\n",
    "n2=int(input(\"enter n2:\"))\n",
    "c=operate(n1,n2)\n",
    "c.result()"
   ]
  },
  {
   "cell_type": "code",
   "execution_count": null,
   "id": "f5668a60-e8da-4261-a057-bc959f17f06a",
   "metadata": {},
   "outputs": [],
   "source": []
  }
 ],
 "metadata": {
  "kernelspec": {
   "display_name": "Python 3 (ipykernel)",
   "language": "python",
   "name": "python3"
  },
  "language_info": {
   "codemirror_mode": {
    "name": "ipython",
    "version": 3
   },
   "file_extension": ".py",
   "mimetype": "text/x-python",
   "name": "python",
   "nbconvert_exporter": "python",
   "pygments_lexer": "ipython3",
   "version": "3.12.7"
  }
 },
 "nbformat": 4,
 "nbformat_minor": 5
}
