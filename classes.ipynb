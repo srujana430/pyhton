{
 "cells": [
  {
   "cell_type": "code",
   "execution_count": 9,
   "id": "68a1174c-2c3b-4377-bb2c-8671165bc27a",
   "metadata": {},
   "outputs": [
    {
     "name": "stdin",
     "output_type": "stream",
     "text": [
      "enter name: a\n",
      "enter marks: 34\n"
     ]
    },
    {
     "name": "stdout",
     "output_type": "stream",
     "text": [
      "student name:a\n",
      "student marks:34\n"
     ]
    }
   ],
   "source": [
    "class student:\n",
    "    def __init__(s,name,marks):\n",
    "        s.name=name\n",
    "        s.marks=marks\n",
    "    def display(s):\n",
    "        print(f\"student name:{s.name}\")\n",
    "        print(f\"student marks:{s.marks}\")\n",
    "name=str(input(\"enter name:\"))\n",
    "marks=int(input(\"enter marks:\"))\n",
    "s=student(name,marks)\n",
    "s.display()"
   ]
  },
  {
   "cell_type": "code",
   "execution_count": 7,
   "id": "7d2e2e49-62cd-4e38-9d15-7d58c0cd9ac5",
   "metadata": {},
   "outputs": [
    {
     "name": "stdin",
     "output_type": "stream",
     "text": [
      "enter name: abc\n",
      "enter marks: 45\n"
     ]
    },
    {
     "name": "stdout",
     "output_type": "stream",
     "text": [
      "student name:abc\n",
      "student marks:45\n"
     ]
    }
   ],
   "source": [
    "class student:\n",
    "    def __init__(s,name,marks):\n",
    "        s.name=name\n",
    "        s.marks=marks\n",
    "    @classmethod\n",
    "    def input(cls):\n",
    "        name=str(input(\"enter name:\"))\n",
    "        marks=int(input(\"enter marks:\"))\n",
    "        return cls(name,marks)\n",
    "    def display(s):\n",
    "        print(f\"student name:{s.name}\")\n",
    "        print(f\"student marks:{s.marks}\")\n",
    "s=student.input()\n",
    "s.display()"
   ]
  },
  {
   "cell_type": "code",
   "execution_count": 11,
   "id": "70689c6a-e3fd-4b08-a0d8-fd088bc0754b",
   "metadata": {},
   "outputs": [
    {
     "name": "stdin",
     "output_type": "stream",
     "text": [
      "enter product name: phone\n",
      "enter price: 300000\n",
      "enter tax_rate in %: 12\n"
     ]
    },
    {
     "name": "stdout",
     "output_type": "stream",
     "text": [
      "final price of phone is Rs.336000.00\n"
     ]
    }
   ],
   "source": [
    "class product:\n",
    "    tax_rate=0.18\n",
    "    def __init__(self,name,price):\n",
    "        self.name=name\n",
    "        self.price=price\n",
    "    def finalprice(self):\n",
    "        total=self.price*(1+product.tax_rate)\n",
    "        print(f\"final price of {self.name} is Rs.{total:.2f}\")\n",
    "    @classmethod\n",
    "    def settax(cls,rate):\n",
    "        cls.tax_rate=rate/100\n",
    "name=str(input(\"enter product name:\"))\n",
    "price=float(input(\"enter price:\"))\n",
    "rate=int(input(\"enter tax_rate in %:\"))\n",
    "product.settax(rate)\n",
    "item=product(name,price)\n",
    "item.finalprice()"
   ]
  },
  {
   "cell_type": "code",
   "execution_count": 17,
   "id": "69fd17c9-e955-4435-939f-835a33850529",
   "metadata": {},
   "outputs": [
    {
     "name": "stdin",
     "output_type": "stream",
     "text": [
      "enter a: 5\n",
      "enter b: 6\n"
     ]
    },
    {
     "name": "stdout",
     "output_type": "stream",
     "text": [
      "addition: 11\n"
     ]
    }
   ],
   "source": [
    "class calculator:\n",
    "    def __init__(s,a,b):\n",
    "        s.a=a\n",
    "        s.b=b\n",
    "    @classmethod\n",
    "    def input(cls):\n",
    "        a=int(input(\"enter a:\"))\n",
    "        b=int(input(\"enter b:\"))\n",
    "        return cls(a,b)\n",
    "    def add(s):\n",
    "        return s.a+s.b\n",
    "c=calculator.input()\n",
    "print(\"addition:\",c.add())"
   ]
  },
  {
   "cell_type": "code",
   "execution_count": 29,
   "id": "9c5b99a6-bced-4d4c-ac1e-47ea7a0a259b",
   "metadata": {},
   "outputs": [
    {
     "name": "stdin",
     "output_type": "stream",
     "text": [
      "enter a: 5\n",
      "enter b: 4\n"
     ]
    },
    {
     "name": "stdout",
     "output_type": "stream",
     "text": [
      "add: 9\n",
      "sub: 1\n",
      "mul: 20\n",
      "div: 1.25\n"
     ]
    }
   ],
   "source": [
    "class calculator:\n",
    "    def __init__(s,a,b):\n",
    "        s.a=a\n",
    "        s.b=b\n",
    "    @classmethod\n",
    "    def input(cls):\n",
    "        a=int(input(\"enter a:\"))\n",
    "        b=int(input(\"enter b:\"))\n",
    "        return cls(a,b)\n",
    "    def op(s):\n",
    "        print(\"add:\",s.a+s.b)\n",
    "        print(\"sub:\",s.a-s.b)\n",
    "        print(\"mul:\",s.a*s.b)\n",
    "        print(\"div:\",s.a/s.b)\n",
    "c=calculator.input()\n",
    "c.op()"
   ]
  },
  {
   "cell_type": "code",
   "execution_count": 33,
   "id": "f548ee62-ba67-4a01-8465-bd1ea0de4e54",
   "metadata": {},
   "outputs": [
    {
     "name": "stdin",
     "output_type": "stream",
     "text": [
      "enter name: kav\n",
      "enter resident or non-resident: uk\n"
     ]
    },
    {
     "name": "stdout",
     "output_type": "stream",
     "text": [
      "name:kav\n",
      "student name: male\n",
      "non resident indian\n"
     ]
    }
   ],
   "source": [
    "class student:\n",
    "    gender='male'\n",
    "    def __init__(s,name):\n",
    "        s.name=name\n",
    "    def display(s):\n",
    "        print(f\"name:{s.name}\")\n",
    "    @classmethod\n",
    "    def getname(cls):\n",
    "        return cls.gender\n",
    "    @staticmethod\n",
    "    def resident(type_of_resident):\n",
    "        if type_of_resident.lower()=='indian':\n",
    "            return \"the person is indian\"\n",
    "        else:\n",
    "            return \"non resident indian\"\n",
    "name=str(input(\"enter name:\"))\n",
    "type=input(\"enter resident or non-resident:\")\n",
    "s=student(name)\n",
    "s.display()\n",
    "print(\"student name:\",student.getname())\n",
    "print(s.resident(type))"
   ]
  },
  {
   "cell_type": "code",
   "execution_count": 39,
   "id": "3e0b3210-05d4-4c64-a4af-c8266ca4479a",
   "metadata": {},
   "outputs": [
    {
     "name": "stdin",
     "output_type": "stream",
     "text": [
      "enter x: 5\n",
      "enter y: 6\n"
     ]
    },
    {
     "name": "stdout",
     "output_type": "stream",
     "text": [
      "sum: 11\n"
     ]
    }
   ],
   "source": [
    "class op:\n",
    "    @staticmethod\n",
    "    def add(a,b):\n",
    "        return a+b\n",
    "x=int(input(\"enter x:\"))\n",
    "y=int(input(\"enter y:\"))\n",
    "print(\"sum:\",op.add(x,y))"
   ]
  },
  {
   "cell_type": "code",
   "execution_count": 57,
   "id": "b48bb8a1-8b44-46fb-829d-96d1da94c090",
   "metadata": {},
   "outputs": [
    {
     "name": "stdin",
     "output_type": "stream",
     "text": [
      "enter x: 5\n",
      "enter y: 4\n"
     ]
    },
    {
     "name": "stdout",
     "output_type": "stream",
     "text": [
      "add: 9\n",
      "sub: 1\n",
      "mul: 20\n",
      "div: 1.25\n"
     ]
    }
   ],
   "source": [
    "class op:\n",
    "    @staticmethod\n",
    "    def add(a,b):\n",
    "        print(\"add:\",a+b)\n",
    "        print(\"sub:\",a-b)\n",
    "        print(\"mul:\",a*b)\n",
    "        print(\"div:\",a/b)\n",
    "x=int(input(\"enter x:\"))\n",
    "y=int(input(\"enter y:\"))\n",
    "c=op.add(x,y)"
   ]
  },
  {
   "cell_type": "code",
   "execution_count": 65,
   "id": "bd7d3ec3-d4e2-4c41-8081-b8949bb73bf1",
   "metadata": {},
   "outputs": [
    {
     "name": "stdin",
     "output_type": "stream",
     "text": [
      "enter a: 5\n",
      "enter b: 4\n"
     ]
    },
    {
     "name": "stdout",
     "output_type": "stream",
     "text": [
      "Addition-instance 9\n"
     ]
    },
    {
     "name": "stdin",
     "output_type": "stream",
     "text": [
      "enter x: 6\n",
      "enter y: 5\n"
     ]
    },
    {
     "name": "stdout",
     "output_type": "stream",
     "text": [
      "Mul-instance: 30\n"
     ]
    }
   ],
   "source": [
    "class calc:\n",
    "    def __init__(s,a,b):\n",
    "        s.a=a\n",
    "        s.b=b\n",
    "    def add(s):\n",
    "        return s.a+s.b\n",
    "    @classmethod\n",
    "    def input(cls):\n",
    "        a=int(input(\"enter a:\"))\n",
    "        b=int(input(\"enter b:\"))\n",
    "        return cls(a,b)\n",
    "    @staticmethod\n",
    "    def mul(x,y):\n",
    "        return x*y\n",
    "c=calc.input()\n",
    "print(\"Addition-instance\",c.add())\n",
    "x=int(input(\"enter x:\"))\n",
    "y=int(input(\"enter y:\"))\n",
    "print(\"Mul-instance:\",calc.mul(x,y))"
   ]
  },
  {
   "cell_type": "code",
   "execution_count": null,
   "id": "a2825139-a8a9-4ed1-91d2-a09d7aa8da50",
   "metadata": {},
   "outputs": [],
   "source": []
  }
 ],
 "metadata": {
  "kernelspec": {
   "display_name": "Python 3 (ipykernel)",
   "language": "python",
   "name": "python3"
  },
  "language_info": {
   "codemirror_mode": {
    "name": "ipython",
    "version": 3
   },
   "file_extension": ".py",
   "mimetype": "text/x-python",
   "name": "python",
   "nbconvert_exporter": "python",
   "pygments_lexer": "ipython3",
   "version": "3.12.7"
  }
 },
 "nbformat": 4,
 "nbformat_minor": 5
}
